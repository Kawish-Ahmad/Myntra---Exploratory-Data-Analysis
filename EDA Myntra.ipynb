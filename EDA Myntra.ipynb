{
 "cells": [
  {
   "cell_type": "code",
   "execution_count": 2,
   "id": "02b9c522",
   "metadata": {},
   "outputs": [],
   "source": [
    "#Project of Myntra-A Fashion Clothing Brand"
   ]
  },
  {
   "cell_type": "markdown",
   "id": "912c8ba9",
   "metadata": {},
   "source": [
    "## Scenario1\n",
    "\n",
    "You have been provided with 2 datasets. You will be learning here how to create the dataframe from\n",
    "2 datasets and make some minor changes as required.\n",
    "Recognize the attributes carefully and make sure they are aligned in proper format.\n",
    "\n",
    "### Task1\n",
    "\n",
    "1. Import all the relevant packages (Eg: Numpy, Seaborn...)\n",
    "2. Import the datasets into the python environment.\n",
    "3. Check the structure, statistics and other important functions. (Only observe the changes)\n",
    "\n",
    "### Task2\n",
    "\n",
    "1. Create a new dataframe “df” by joining the 2 datasets\n",
    "2. Drop the duplicate data\n",
    "3. Check for missing values\n"
   ]
  },
  {
   "cell_type": "code",
   "execution_count": 1,
   "id": "0df74e90",
   "metadata": {},
   "outputs": [],
   "source": [
    "# Importing all the relevant packages\n",
    "\n",
    "import numpy as np\n",
    "import pandas as pd\n",
    "import matplotlib.pyplot as plt\n",
    "import seaborn as sns"
   ]
  },
  {
   "cell_type": "code",
   "execution_count": 2,
   "id": "e5970256",
   "metadata": {},
   "outputs": [],
   "source": [
    "#Importing the dataset intothe python environment\n",
    "\n",
    "df1 = pd.read_csv(r\"C:\\Users\\syedk\\Desktop\\Python\\product details.csv\")\n",
    "df2 = pd.read_csv(r\"C:\\Users\\syedk\\Desktop\\Python\\products catalog.csv\")"
   ]
  },
  {
   "cell_type": "code",
   "execution_count": 3,
   "id": "8884fb9e",
   "metadata": {},
   "outputs": [],
   "source": [
    "#Check the structure, statistics and other important functions. (Only observe the changes)"
   ]
  },
  {
   "cell_type": "code",
   "execution_count": 4,
   "id": "5762cd71",
   "metadata": {},
   "outputs": [
    {
     "data": {
      "text/html": [
       "<div>\n",
       "<style scoped>\n",
       "    .dataframe tbody tr th:only-of-type {\n",
       "        vertical-align: middle;\n",
       "    }\n",
       "\n",
       "    .dataframe tbody tr th {\n",
       "        vertical-align: top;\n",
       "    }\n",
       "\n",
       "    .dataframe thead th {\n",
       "        text-align: right;\n",
       "    }\n",
       "</style>\n",
       "<table border=\"1\" class=\"dataframe\">\n",
       "  <thead>\n",
       "    <tr style=\"text-align: right;\">\n",
       "      <th></th>\n",
       "      <th>ProductID</th>\n",
       "      <th>ProductName</th>\n",
       "      <th>ProductBrand</th>\n",
       "    </tr>\n",
       "  </thead>\n",
       "  <tbody>\n",
       "    <tr>\n",
       "      <th>0</th>\n",
       "      <td>10017413</td>\n",
       "      <td>DKNY Unisex Black &amp; Grey Printed Medium Trolle...</td>\n",
       "      <td>DKNY</td>\n",
       "    </tr>\n",
       "    <tr>\n",
       "      <th>1</th>\n",
       "      <td>10016283</td>\n",
       "      <td>EthnoVogue Women Beige &amp; Grey Made to Measure ...</td>\n",
       "      <td>EthnoVogue</td>\n",
       "    </tr>\n",
       "    <tr>\n",
       "      <th>2</th>\n",
       "      <td>10009781</td>\n",
       "      <td>SPYKAR Women Pink Alexa Super Skinny Fit High-...</td>\n",
       "      <td>SPYKAR</td>\n",
       "    </tr>\n",
       "    <tr>\n",
       "      <th>3</th>\n",
       "      <td>10015921</td>\n",
       "      <td>Raymond Men Blue Self-Design Single-Breasted B...</td>\n",
       "      <td>Raymond</td>\n",
       "    </tr>\n",
       "    <tr>\n",
       "      <th>4</th>\n",
       "      <td>10017833</td>\n",
       "      <td>Parx Men Brown &amp; Off-White Slim Fit Printed Ca...</td>\n",
       "      <td>Parx</td>\n",
       "    </tr>\n",
       "  </tbody>\n",
       "</table>\n",
       "</div>"
      ],
      "text/plain": [
       "   ProductID                                        ProductName ProductBrand\n",
       "0   10017413  DKNY Unisex Black & Grey Printed Medium Trolle...         DKNY\n",
       "1   10016283  EthnoVogue Women Beige & Grey Made to Measure ...   EthnoVogue\n",
       "2   10009781  SPYKAR Women Pink Alexa Super Skinny Fit High-...       SPYKAR\n",
       "3   10015921  Raymond Men Blue Self-Design Single-Breasted B...      Raymond\n",
       "4   10017833  Parx Men Brown & Off-White Slim Fit Printed Ca...         Parx"
      ]
     },
     "execution_count": 4,
     "metadata": {},
     "output_type": "execute_result"
    }
   ],
   "source": [
    "df1.head()"
   ]
  },
  {
   "cell_type": "code",
   "execution_count": 5,
   "id": "1d78c10d",
   "metadata": {},
   "outputs": [
    {
     "data": {
      "text/html": [
       "<div>\n",
       "<style scoped>\n",
       "    .dataframe tbody tr th:only-of-type {\n",
       "        vertical-align: middle;\n",
       "    }\n",
       "\n",
       "    .dataframe tbody tr th {\n",
       "        vertical-align: top;\n",
       "    }\n",
       "\n",
       "    .dataframe thead th {\n",
       "        text-align: right;\n",
       "    }\n",
       "</style>\n",
       "<table border=\"1\" class=\"dataframe\">\n",
       "  <thead>\n",
       "    <tr style=\"text-align: right;\">\n",
       "      <th></th>\n",
       "      <th>Gender</th>\n",
       "      <th>Price (INR)</th>\n",
       "      <th>NumImages</th>\n",
       "      <th>ID</th>\n",
       "      <th>Description</th>\n",
       "      <th>PrimaryColor</th>\n",
       "    </tr>\n",
       "  </thead>\n",
       "  <tbody>\n",
       "    <tr>\n",
       "      <th>0</th>\n",
       "      <td>Women</td>\n",
       "      <td>593</td>\n",
       "      <td>5</td>\n",
       "      <td>10182131</td>\n",
       "      <td>Off-White printed woven A-line  top, has a rou...</td>\n",
       "      <td>White</td>\n",
       "    </tr>\n",
       "    <tr>\n",
       "      <th>1</th>\n",
       "      <td>Men</td>\n",
       "      <td>6396</td>\n",
       "      <td>5</td>\n",
       "      <td>10052169</td>\n",
       "      <td>Display: AnalogueMovement: QuartzPower source:...</td>\n",
       "      <td>Black</td>\n",
       "    </tr>\n",
       "    <tr>\n",
       "      <th>2</th>\n",
       "      <td>Women</td>\n",
       "      <td>599</td>\n",
       "      <td>5</td>\n",
       "      <td>10168643</td>\n",
       "      <td>Blue printed knitted regular  top, has a high ...</td>\n",
       "      <td>Blue</td>\n",
       "    </tr>\n",
       "    <tr>\n",
       "      <th>3</th>\n",
       "      <td>Men</td>\n",
       "      <td>1034</td>\n",
       "      <td>5</td>\n",
       "      <td>10155427</td>\n",
       "      <td>Grey and Purple checked smart casual shirt, ha...</td>\n",
       "      <td>Grey</td>\n",
       "    </tr>\n",
       "    <tr>\n",
       "      <th>4</th>\n",
       "      <td>Men</td>\n",
       "      <td>477</td>\n",
       "      <td>3</td>\n",
       "      <td>10191059</td>\n",
       "      <td>Beige and Brown striped beltReversible: NoStre...</td>\n",
       "      <td>Brown</td>\n",
       "    </tr>\n",
       "  </tbody>\n",
       "</table>\n",
       "</div>"
      ],
      "text/plain": [
       "  Gender  Price (INR)  NumImages        ID  \\\n",
       "0  Women          593          5  10182131   \n",
       "1    Men         6396          5  10052169   \n",
       "2  Women          599          5  10168643   \n",
       "3    Men         1034          5  10155427   \n",
       "4    Men          477          3  10191059   \n",
       "\n",
       "                                         Description PrimaryColor  \n",
       "0  Off-White printed woven A-line  top, has a rou...        White  \n",
       "1  Display: AnalogueMovement: QuartzPower source:...        Black  \n",
       "2  Blue printed knitted regular  top, has a high ...         Blue  \n",
       "3  Grey and Purple checked smart casual shirt, ha...         Grey  \n",
       "4  Beige and Brown striped beltReversible: NoStre...        Brown  "
      ]
     },
     "execution_count": 5,
     "metadata": {},
     "output_type": "execute_result"
    }
   ],
   "source": [
    "df2.head()"
   ]
  },
  {
   "cell_type": "code",
   "execution_count": 6,
   "id": "3fde00d9",
   "metadata": {},
   "outputs": [
    {
     "data": {
      "text/plain": [
       "Index(['ProductID', 'ProductName', 'ProductBrand'], dtype='object')"
      ]
     },
     "execution_count": 6,
     "metadata": {},
     "output_type": "execute_result"
    }
   ],
   "source": [
    "df1.columns"
   ]
  },
  {
   "cell_type": "code",
   "execution_count": 7,
   "id": "742fd22d",
   "metadata": {},
   "outputs": [
    {
     "data": {
      "text/plain": [
       "Index(['Gender', 'Price (INR)', 'NumImages', 'ID', 'Description',\n",
       "       'PrimaryColor'],\n",
       "      dtype='object')"
      ]
     },
     "execution_count": 7,
     "metadata": {},
     "output_type": "execute_result"
    }
   ],
   "source": [
    "df2.columns"
   ]
  },
  {
   "cell_type": "code",
   "execution_count": 8,
   "id": "b676307b",
   "metadata": {},
   "outputs": [
    {
     "name": "stdout",
     "output_type": "stream",
     "text": [
      "(12491, 3)\n",
      "(12491, 6)\n"
     ]
    }
   ],
   "source": [
    "print(df1.shape)\n",
    "print(df2.shape)"
   ]
  },
  {
   "cell_type": "code",
   "execution_count": 9,
   "id": "658e6d1d",
   "metadata": {},
   "outputs": [
    {
     "name": "stdout",
     "output_type": "stream",
     "text": [
      "           ProductID                                  ProductName  \\\n",
      "count   1.249100e+04                                        12491   \n",
      "unique           NaN                                        10761   \n",
      "top              NaN  Parx Men Blue Slim Fit Checked Casual Shirt   \n",
      "freq             NaN                                           16   \n",
      "mean    9.917160e+06                                          NaN   \n",
      "std     1.438006e+06                                          NaN   \n",
      "min     1.012060e+05                                          NaN   \n",
      "25%     1.006215e+07                                          NaN   \n",
      "50%     1.015463e+07                                          NaN   \n",
      "75%     1.021565e+07                                          NaN   \n",
      "max     1.027514e+07                                          NaN   \n",
      "\n",
      "          ProductBrand  \n",
      "count            12491  \n",
      "unique             677  \n",
      "top     Indian Terrain  \n",
      "freq               971  \n",
      "mean               NaN  \n",
      "std                NaN  \n",
      "min                NaN  \n",
      "25%                NaN  \n",
      "50%                NaN  \n",
      "75%                NaN  \n",
      "max                NaN  \n",
      "--------------------------------------------------------------------------------\n",
      "       Gender   Price (INR)     NumImages            ID  \\\n",
      "count   12491  12491.000000  12491.000000  1.249100e+04   \n",
      "unique      6           NaN           NaN           NaN   \n",
      "top     Women           NaN           NaN           NaN   \n",
      "freq     5126           NaN           NaN           NaN   \n",
      "mean      NaN   1452.660956      4.913698  9.917160e+06   \n",
      "std       NaN   2118.503976      1.092333  1.438006e+06   \n",
      "min       NaN     90.000000      1.000000  1.012060e+05   \n",
      "25%       NaN    649.000000      5.000000  1.006215e+07   \n",
      "50%       NaN    920.000000      5.000000  1.015463e+07   \n",
      "75%       NaN   1499.000000      5.000000  1.021565e+07   \n",
      "max       NaN  63090.000000     10.000000  1.027514e+07   \n",
      "\n",
      "                                              Description PrimaryColor  \n",
      "count                                               12491        11597  \n",
      "unique                                              10435           27  \n",
      "top     Blue medium wash 5-pocket mid-rise jeans, clea...         Blue  \n",
      "freq                                                   54         3443  \n",
      "mean                                                  NaN          NaN  \n",
      "std                                                   NaN          NaN  \n",
      "min                                                   NaN          NaN  \n",
      "25%                                                   NaN          NaN  \n",
      "50%                                                   NaN          NaN  \n",
      "75%                                                   NaN          NaN  \n",
      "max                                                   NaN          NaN  \n"
     ]
    }
   ],
   "source": [
    "print(df1.describe(include = \"all\"))\n",
    "print(\"----\" * 20)\n",
    "print(df2.describe(include= \"all\"))"
   ]
  },
  {
   "cell_type": "code",
   "execution_count": 10,
   "id": "be70fef9",
   "metadata": {},
   "outputs": [
    {
     "name": "stdout",
     "output_type": "stream",
     "text": [
      "<class 'pandas.core.frame.DataFrame'>\n",
      "RangeIndex: 12491 entries, 0 to 12490\n",
      "Data columns (total 3 columns):\n",
      " #   Column        Non-Null Count  Dtype \n",
      "---  ------        --------------  ----- \n",
      " 0   ProductID     12491 non-null  int64 \n",
      " 1   ProductName   12491 non-null  object\n",
      " 2   ProductBrand  12491 non-null  object\n",
      "dtypes: int64(1), object(2)\n",
      "memory usage: 292.9+ KB\n",
      "None\n",
      "--------------------------------------------------------------------------------\n",
      "<class 'pandas.core.frame.DataFrame'>\n",
      "RangeIndex: 12491 entries, 0 to 12490\n",
      "Data columns (total 6 columns):\n",
      " #   Column        Non-Null Count  Dtype \n",
      "---  ------        --------------  ----- \n",
      " 0   Gender        12491 non-null  object\n",
      " 1   Price (INR)   12491 non-null  int64 \n",
      " 2   NumImages     12491 non-null  int64 \n",
      " 3   ID            12491 non-null  int64 \n",
      " 4   Description   12491 non-null  object\n",
      " 5   PrimaryColor  11597 non-null  object\n",
      "dtypes: int64(3), object(3)\n",
      "memory usage: 585.6+ KB\n",
      "None\n"
     ]
    }
   ],
   "source": [
    "print(df1.info())\n",
    "print(\"----\" * 20)\n",
    "print(df2.info())"
   ]
  },
  {
   "cell_type": "code",
   "execution_count": 11,
   "id": "2369fac8",
   "metadata": {},
   "outputs": [],
   "source": [
    "#Create a new dataframe “df” by joining the 2 datasets"
   ]
  },
  {
   "cell_type": "code",
   "execution_count": 12,
   "id": "4e1289e5",
   "metadata": {},
   "outputs": [
    {
     "data": {
      "text/html": [
       "<div>\n",
       "<style scoped>\n",
       "    .dataframe tbody tr th:only-of-type {\n",
       "        vertical-align: middle;\n",
       "    }\n",
       "\n",
       "    .dataframe tbody tr th {\n",
       "        vertical-align: top;\n",
       "    }\n",
       "\n",
       "    .dataframe thead th {\n",
       "        text-align: right;\n",
       "    }\n",
       "</style>\n",
       "<table border=\"1\" class=\"dataframe\">\n",
       "  <thead>\n",
       "    <tr style=\"text-align: right;\">\n",
       "      <th></th>\n",
       "      <th>ProductID</th>\n",
       "      <th>ProductName</th>\n",
       "      <th>ProductBrand</th>\n",
       "      <th>Gender</th>\n",
       "      <th>Price (INR)</th>\n",
       "      <th>NumImages</th>\n",
       "      <th>ID</th>\n",
       "      <th>Description</th>\n",
       "      <th>PrimaryColor</th>\n",
       "    </tr>\n",
       "  </thead>\n",
       "  <tbody>\n",
       "    <tr>\n",
       "      <th>0</th>\n",
       "      <td>10017413</td>\n",
       "      <td>DKNY Unisex Black &amp; Grey Printed Medium Trolle...</td>\n",
       "      <td>DKNY</td>\n",
       "      <td>Unisex</td>\n",
       "      <td>11745</td>\n",
       "      <td>7</td>\n",
       "      <td>10017413</td>\n",
       "      <td>Black and grey printed medium trolley bag, sec...</td>\n",
       "      <td>Black</td>\n",
       "    </tr>\n",
       "    <tr>\n",
       "      <th>1</th>\n",
       "      <td>10016283</td>\n",
       "      <td>EthnoVogue Women Beige &amp; Grey Made to Measure ...</td>\n",
       "      <td>EthnoVogue</td>\n",
       "      <td>Women</td>\n",
       "      <td>5810</td>\n",
       "      <td>7</td>\n",
       "      <td>10016283</td>\n",
       "      <td>Beige &amp; Grey made to measure kurta with churid...</td>\n",
       "      <td>Beige</td>\n",
       "    </tr>\n",
       "    <tr>\n",
       "      <th>2</th>\n",
       "      <td>10009781</td>\n",
       "      <td>SPYKAR Women Pink Alexa Super Skinny Fit High-...</td>\n",
       "      <td>SPYKAR</td>\n",
       "      <td>Women</td>\n",
       "      <td>899</td>\n",
       "      <td>7</td>\n",
       "      <td>10009781</td>\n",
       "      <td>Pink coloured wash 5-pocket high-rise cropped ...</td>\n",
       "      <td>Pink</td>\n",
       "    </tr>\n",
       "    <tr>\n",
       "      <th>3</th>\n",
       "      <td>10015921</td>\n",
       "      <td>Raymond Men Blue Self-Design Single-Breasted B...</td>\n",
       "      <td>Raymond</td>\n",
       "      <td>Men</td>\n",
       "      <td>5599</td>\n",
       "      <td>5</td>\n",
       "      <td>10015921</td>\n",
       "      <td>Blue self-design bandhgala suitBlue self-desig...</td>\n",
       "      <td>Blue</td>\n",
       "    </tr>\n",
       "    <tr>\n",
       "      <th>4</th>\n",
       "      <td>10017833</td>\n",
       "      <td>Parx Men Brown &amp; Off-White Slim Fit Printed Ca...</td>\n",
       "      <td>Parx</td>\n",
       "      <td>Men</td>\n",
       "      <td>759</td>\n",
       "      <td>5</td>\n",
       "      <td>10017833</td>\n",
       "      <td>Brown and off-white printed casual shirt, has ...</td>\n",
       "      <td>White</td>\n",
       "    </tr>\n",
       "  </tbody>\n",
       "</table>\n",
       "</div>"
      ],
      "text/plain": [
       "   ProductID                                        ProductName ProductBrand  \\\n",
       "0   10017413  DKNY Unisex Black & Grey Printed Medium Trolle...         DKNY   \n",
       "1   10016283  EthnoVogue Women Beige & Grey Made to Measure ...   EthnoVogue   \n",
       "2   10009781  SPYKAR Women Pink Alexa Super Skinny Fit High-...       SPYKAR   \n",
       "3   10015921  Raymond Men Blue Self-Design Single-Breasted B...      Raymond   \n",
       "4   10017833  Parx Men Brown & Off-White Slim Fit Printed Ca...         Parx   \n",
       "\n",
       "   Gender  Price (INR)  NumImages        ID  \\\n",
       "0  Unisex        11745          7  10017413   \n",
       "1   Women         5810          7  10016283   \n",
       "2   Women          899          7  10009781   \n",
       "3     Men         5599          5  10015921   \n",
       "4     Men          759          5  10017833   \n",
       "\n",
       "                                         Description PrimaryColor  \n",
       "0  Black and grey printed medium trolley bag, sec...        Black  \n",
       "1  Beige & Grey made to measure kurta with churid...        Beige  \n",
       "2  Pink coloured wash 5-pocket high-rise cropped ...         Pink  \n",
       "3  Blue self-design bandhgala suitBlue self-desig...         Blue  \n",
       "4  Brown and off-white printed casual shirt, has ...        White  "
      ]
     },
     "execution_count": 12,
     "metadata": {},
     "output_type": "execute_result"
    }
   ],
   "source": [
    "df=pd.merge(left=df1,right=df2,how=\"inner\",left_on=\"ProductID\",right_on=\"ID\")\n",
    "df.head()"
   ]
  },
  {
   "cell_type": "code",
   "execution_count": 16,
   "id": "c893115d",
   "metadata": {},
   "outputs": [],
   "source": [
    "#Drop the duplicate data\n",
    "\n",
    "df.drop_duplicates(inplace=True)\n",
    "df.drop([\"ID\"],axis=1,inplace=True)"
   ]
  },
  {
   "cell_type": "code",
   "execution_count": 17,
   "id": "ab0ef2ba",
   "metadata": {},
   "outputs": [
    {
     "data": {
      "text/html": [
       "<div>\n",
       "<style scoped>\n",
       "    .dataframe tbody tr th:only-of-type {\n",
       "        vertical-align: middle;\n",
       "    }\n",
       "\n",
       "    .dataframe tbody tr th {\n",
       "        vertical-align: top;\n",
       "    }\n",
       "\n",
       "    .dataframe thead th {\n",
       "        text-align: right;\n",
       "    }\n",
       "</style>\n",
       "<table border=\"1\" class=\"dataframe\">\n",
       "  <thead>\n",
       "    <tr style=\"text-align: right;\">\n",
       "      <th></th>\n",
       "      <th>ProductID</th>\n",
       "      <th>ProductName</th>\n",
       "      <th>ProductBrand</th>\n",
       "      <th>Gender</th>\n",
       "      <th>Price (INR)</th>\n",
       "      <th>NumImages</th>\n",
       "      <th>Description</th>\n",
       "      <th>PrimaryColor</th>\n",
       "    </tr>\n",
       "  </thead>\n",
       "  <tbody>\n",
       "    <tr>\n",
       "      <th>0</th>\n",
       "      <td>10017413</td>\n",
       "      <td>DKNY Unisex Black &amp; Grey Printed Medium Trolle...</td>\n",
       "      <td>DKNY</td>\n",
       "      <td>Unisex</td>\n",
       "      <td>11745</td>\n",
       "      <td>7</td>\n",
       "      <td>Black and grey printed medium trolley bag, sec...</td>\n",
       "      <td>Black</td>\n",
       "    </tr>\n",
       "    <tr>\n",
       "      <th>1</th>\n",
       "      <td>10016283</td>\n",
       "      <td>EthnoVogue Women Beige &amp; Grey Made to Measure ...</td>\n",
       "      <td>EthnoVogue</td>\n",
       "      <td>Women</td>\n",
       "      <td>5810</td>\n",
       "      <td>7</td>\n",
       "      <td>Beige &amp; Grey made to measure kurta with churid...</td>\n",
       "      <td>Beige</td>\n",
       "    </tr>\n",
       "    <tr>\n",
       "      <th>2</th>\n",
       "      <td>10009781</td>\n",
       "      <td>SPYKAR Women Pink Alexa Super Skinny Fit High-...</td>\n",
       "      <td>SPYKAR</td>\n",
       "      <td>Women</td>\n",
       "      <td>899</td>\n",
       "      <td>7</td>\n",
       "      <td>Pink coloured wash 5-pocket high-rise cropped ...</td>\n",
       "      <td>Pink</td>\n",
       "    </tr>\n",
       "    <tr>\n",
       "      <th>3</th>\n",
       "      <td>10015921</td>\n",
       "      <td>Raymond Men Blue Self-Design Single-Breasted B...</td>\n",
       "      <td>Raymond</td>\n",
       "      <td>Men</td>\n",
       "      <td>5599</td>\n",
       "      <td>5</td>\n",
       "      <td>Blue self-design bandhgala suitBlue self-desig...</td>\n",
       "      <td>Blue</td>\n",
       "    </tr>\n",
       "    <tr>\n",
       "      <th>4</th>\n",
       "      <td>10017833</td>\n",
       "      <td>Parx Men Brown &amp; Off-White Slim Fit Printed Ca...</td>\n",
       "      <td>Parx</td>\n",
       "      <td>Men</td>\n",
       "      <td>759</td>\n",
       "      <td>5</td>\n",
       "      <td>Brown and off-white printed casual shirt, has ...</td>\n",
       "      <td>White</td>\n",
       "    </tr>\n",
       "  </tbody>\n",
       "</table>\n",
       "</div>"
      ],
      "text/plain": [
       "   ProductID                                        ProductName ProductBrand  \\\n",
       "0   10017413  DKNY Unisex Black & Grey Printed Medium Trolle...         DKNY   \n",
       "1   10016283  EthnoVogue Women Beige & Grey Made to Measure ...   EthnoVogue   \n",
       "2   10009781  SPYKAR Women Pink Alexa Super Skinny Fit High-...       SPYKAR   \n",
       "3   10015921  Raymond Men Blue Self-Design Single-Breasted B...      Raymond   \n",
       "4   10017833  Parx Men Brown & Off-White Slim Fit Printed Ca...         Parx   \n",
       "\n",
       "   Gender  Price (INR)  NumImages  \\\n",
       "0  Unisex        11745          7   \n",
       "1   Women         5810          7   \n",
       "2   Women          899          7   \n",
       "3     Men         5599          5   \n",
       "4     Men          759          5   \n",
       "\n",
       "                                         Description PrimaryColor  \n",
       "0  Black and grey printed medium trolley bag, sec...        Black  \n",
       "1  Beige & Grey made to measure kurta with churid...        Beige  \n",
       "2  Pink coloured wash 5-pocket high-rise cropped ...         Pink  \n",
       "3  Blue self-design bandhgala suitBlue self-desig...         Blue  \n",
       "4  Brown and off-white printed casual shirt, has ...        White  "
      ]
     },
     "execution_count": 17,
     "metadata": {},
     "output_type": "execute_result"
    }
   ],
   "source": [
    "df.head()"
   ]
  },
  {
   "cell_type": "code",
   "execution_count": 13,
   "id": "6c5f1e33",
   "metadata": {},
   "outputs": [
    {
     "data": {
      "text/plain": [
       "ProductID         0\n",
       "ProductName       0\n",
       "ProductBrand      0\n",
       "Gender            0\n",
       "Price (INR)       0\n",
       "NumImages         0\n",
       "ID                0\n",
       "Description       0\n",
       "PrimaryColor    894\n",
       "dtype: int64"
      ]
     },
     "execution_count": 13,
     "metadata": {},
     "output_type": "execute_result"
    }
   ],
   "source": [
    "#Check for missing values\n",
    "df.isna().sum()"
   ]
  },
  {
   "cell_type": "code",
   "execution_count": 14,
   "id": "5b9e1ed4",
   "metadata": {
    "scrolled": false
   },
   "outputs": [
    {
     "data": {
      "text/plain": [
       "ProductID        int64\n",
       "ProductName     object\n",
       "ProductBrand    object\n",
       "Gender          object\n",
       "Price (INR)      int64\n",
       "NumImages        int64\n",
       "ID               int64\n",
       "Description     object\n",
       "PrimaryColor    object\n",
       "dtype: object"
      ]
     },
     "execution_count": 14,
     "metadata": {},
     "output_type": "execute_result"
    }
   ],
   "source": [
    "#checking the datatypes\n",
    "df.dtypes"
   ]
  },
  {
   "cell_type": "code",
   "execution_count": 20,
   "id": "d0593fee",
   "metadata": {},
   "outputs": [],
   "source": [
    "#check count of unique values in categorical column"
   ]
  },
  {
   "cell_type": "code",
   "execution_count": 15,
   "id": "052c91ff",
   "metadata": {},
   "outputs": [
    {
     "name": "stdout",
     "output_type": "stream",
     "text": [
      "The unique values inside the column primary color --> [' Black' ' Beige' ' Pink' 'Blue' ' White' ' Brown' ' Burgundy' ' Red'\n",
      " ' Green' nan ' Maroon' ' Navy' ' Gold' ' Yellow' ' Grey' ' Platinum'\n",
      " ' Silver' ' Khaki' ' Mustard' ' Lavender' ' Matte' ' Rose' ' Charcoal'\n",
      " ' Purple' ' Orange' ' Peach' ' Magenta' ' Bronze']\n",
      "\n",
      "The count of unique values inside the column primary color --> 27\n",
      "\n",
      "The frequency of unique values inside the column primary color --> PrimaryColor\n",
      "Blue      3443\n",
      " Black    1640\n",
      " Red      1543\n",
      " Green     908\n",
      " White     880\n",
      "Name: count, dtype: int64\n"
     ]
    }
   ],
   "source": [
    "print(f\"The unique values inside the column primary color --> {df['PrimaryColor'].unique()}\")\n",
    "print(sep=\"\\n\")\n",
    "print(f\"The count of unique values inside the column primary color --> {df['PrimaryColor'].nunique()}\")\n",
    "print(sep=\"\\n\")\n",
    "print(f\"The frequency of unique values inside the column primary color --> {df['PrimaryColor'].value_counts().head()}\")"
   ]
  },
  {
   "cell_type": "code",
   "execution_count": 16,
   "id": "f105fef6",
   "metadata": {},
   "outputs": [
    {
     "name": "stdout",
     "output_type": "stream",
     "text": [
      "The unique values inside the column ProductName --> ['DKNY Unisex Black & Grey Printed Medium Trolley Bag'\n",
      " 'EthnoVogue Women Beige & Grey Made to Measure Custom Made Kurta Set with Jacket'\n",
      " 'SPYKAR Women Pink Alexa Super Skinny Fit High-Rise Clean Look Stretchable Cropped Jeans'\n",
      " 'Raymond Men Blue Self-Design Single-Breasted Bandhgala Suit'\n",
      " 'Parx Men Brown & Off-White Slim Fit Printed Casual Shirt'\n",
      " 'SHOWOFF Men Brown Solid Slim Fit Regular Shorts'\n",
      " 'Parx Men Blue Slim Fit Checked Casual Shirt'\n",
      " 'SPYKAR Women Burgundy Alexa Super Skinny Fit High-Rise Clean Look Stretchable Ankle Jeans'\n",
      " 'Parx Men Brown Tapered Fit Solid Regular Trousers'\n",
      " 'DKNY Unisex Black Large Trolley Bag']\n",
      "\n",
      "The count of unique values inside the column ProductName --> 10761\n",
      "\n",
      "The frequency of unique values inside the column ProductName --> ProductName\n",
      "Parx Men Blue Slim Fit Checked Casual Shirt                           16\n",
      "ZHEIA Women Blue Skinny Fit Mid-Rise Clean Look Stretchable Jeans     15\n",
      "Roadster Men Blue Skinny Fit Mid-Rise Clean Look Stretchable Jeans    14\n",
      "Sonari Pack of 2 Full-Coverage Bras                                   14\n",
      "Roadster Men Blue Slim Fit Mid-Rise Clean Look Stretchable Jeans      13\n",
      "Name: count, dtype: int64\n"
     ]
    }
   ],
   "source": [
    "print(f\"The unique values inside the column ProductName --> {df['ProductName'].unique()[:10]}\")\n",
    "print(sep=\"\\n\")\n",
    "print(f\"The count of unique values inside the column ProductName --> {df['ProductName'].nunique()}\")\n",
    "print(sep=\"\\n\")\n",
    "print(f\"The frequency of unique values inside the column ProductName --> {df['ProductName'].value_counts().head()}\")"
   ]
  },
  {
   "cell_type": "code",
   "execution_count": 17,
   "id": "8c2fabf5",
   "metadata": {},
   "outputs": [
    {
     "name": "stdout",
     "output_type": "stream",
     "text": [
      "The unique values inside the column ProductBrand --> ['DKNY' 'EthnoVogue' 'SPYKAR' 'Raymond' 'Parx' 'SHOWOFF' 'Kenneth Cole'\n",
      " 'Police' 'Vishudh' 'Being Human']\n",
      "\n",
      "The count of unique values inside the column ProductBrand --> 677\n",
      "\n",
      "The frequency of unique values inside the column ProductBrand --> ProductBrand\n",
      "Indian Terrain    971\n",
      "Puma              345\n",
      "Pepe Jeans        340\n",
      "AURELIA           307\n",
      "Flying Machine    301\n",
      "Name: count, dtype: int64\n"
     ]
    }
   ],
   "source": [
    "print(f\"The unique values inside the column ProductBrand --> {df['ProductBrand'].unique()[:10]}\")\n",
    "print(sep=\"\\n\")\n",
    "print(f\"The count of unique values inside the column ProductBrand --> {df['ProductBrand'].nunique()}\")\n",
    "print(sep=\"\\n\")\n",
    "print(f\"The frequency of unique values inside the column ProductBrand --> {df['ProductBrand'].value_counts().head()}\")"
   ]
  },
  {
   "cell_type": "code",
   "execution_count": 18,
   "id": "33699d14",
   "metadata": {},
   "outputs": [
    {
     "name": "stdout",
     "output_type": "stream",
     "text": [
      "The unique values inside the column Description --> ['Black and grey printed medium trolley bag, secured with a TSA lockOne handle on the top and one on the side, has a trolley with a retractable handle on the top and four corner mounted inline skate wheelsOne main zip compartment, zip lining, two compression straps with click clasps, one zip compartment on the flap with three zip pocketsWarranty: 5 yearsWarranty provided by Brand Owner / Manufacturer'\n",
      " 'Beige & Grey made to measure kurta with churidar and\\xa0dupattaBeige made to measure calf\\xa0length kurta, has a V-neck, three-quarter sleeves, lightly padded on bust, flared hem, concealed zip closureGrey solid made to measure churidar, drawstring closureGrey net sequined dupatta, has printed tapingWhat is Made to Measure?Customised Kurta Set according to your Bust and Length. So please refer to the Size Chart to pick your perfect size.How to measure bust?Measure under your arms and around your chest to find your bust size in inchesHow to measure Kurta length?Measure from shoulder till barefoot to find kurta length in'\n",
      " 'Pink coloured wash 5-pocket high-rise cropped jeans, clean look, no fade, has a button and zip closure, and waistband with belt loops'\n",
      " 'Blue self-design bandhgala suitBlue self-design bandhgala blazer, has a mandarin collar, single breasted with full button placket, long sleeves, three pockets, an attached lining and a double-vented back hemBlue self-design mid-rise trousers, has a zip fly with a button and a hook-and-bar closure, four pockets, a waistband with belt loops'\n",
      " 'Brown and off-white printed casual shirt, has a spread collar, long sleeves, button placket,  curved hem, one patch pocket'\n",
      " 'Brown solid low-rise regular shorts, has four pockets, a button closure'\n",
      " 'Blue checked casual shirt, has a spread collar, long sleeves, button placket,  curved hem, one patch pocket'\n",
      " 'Burgundy coloured wash 5-pocket high-rise jeans, clean look, no fade, has a button and zip closure, and waistband with belt loops'\n",
      " 'Brown solid regular trousers regular trousers'\n",
      " 'Black solid large trolley bag, secured with a TSA lockOne handle on the top and one on the side, has a trolley with a retractable handle on the top and four corner mounted inline skate wheelsOne main zip compartment, zip lining, two compression straps with click clasps and one zip pocketOne exterior zip pocketWarranty: 5 yearsWarranty provided by Brand Owner / Manufacturer']\n",
      "\n",
      "The count of unique values inside the column Description --> 10435\n",
      "\n",
      "The frequency of unique values inside the column Description --> Description\n",
      "Blue medium wash 5-pocket mid-rise jeans, clean look, heavy fade, has a button and zip closure, and waistband with belt loops                                                                                                                                             54\n",
      "Blue medium wash 5-pocket mid-rise jeans, clean look, light fade, has a button and zip closure, and waistband with belt loops                                                                                                                                             47\n",
      "Black printed T-shirt, has a round neck, and short sleeves                                                                                                                                                                                                                36\n",
      "Pattern: PrintedFinish: MatteMaterial: Ceramic                                                                                                                                                                                                                            30\n",
      "Pack of 2 solid medium-coverage assorted T-shirt brasLightly padded and non-wired seamless cupsRegular straps and back closureBack style: RegularFeature: All Day ComfortDisclaimer: The final product delivered might vary in colour and prints from the display here    29\n",
      "Name: count, dtype: int64\n"
     ]
    }
   ],
   "source": [
    "print(f\"The unique values inside the column Description --> {df['Description'].unique()[:10]}\")\n",
    "print(sep=\"\\n\")\n",
    "print(f\"The count of unique values inside the column Description --> {df['Description'].nunique()}\")\n",
    "print(sep=\"\\n\")\n",
    "print(f\"The frequency of unique values inside the column Description --> {df['Description'].value_counts().head()}\")"
   ]
  },
  {
   "cell_type": "markdown",
   "id": "bbca2513",
   "metadata": {},
   "source": [
    "## Scenario2\n",
    "\n",
    "You have successfully created the dataframe from the two input files.\n",
    "Here we will be processing cleaning operations and intro to brief analysis.\n",
    "Expected shape of the dataset: 12491 rows and 8 columns\n",
    "\n",
    "Task\n",
    "\n",
    "1. There is a column that needs string strip operation. Identify that and apply it.\n",
    "2. Fill the missing value by ‘Others’ in the column containing it\n",
    "3. Since all the column names are single word so you can convert the ‘Price (INR)’ also to single name ‘Price’.\n",
    "4. Analyse the Gender column and include your viewpoints how to make it useful."
   ]
  },
  {
   "cell_type": "code",
   "execution_count": 21,
   "id": "584d0465",
   "metadata": {},
   "outputs": [],
   "source": [
    "#There is a column that needs string strip operation. Identify that and apply it.\n",
    "df['PrimaryColor']=df[\"PrimaryColor\"].apply(lambda x:str(x).strip())"
   ]
  },
  {
   "cell_type": "code",
   "execution_count": 22,
   "id": "99b08dde",
   "metadata": {},
   "outputs": [
    {
     "data": {
      "text/plain": [
       "array(['Black', 'Beige', 'Pink', 'Blue', 'White', 'Brown', 'Burgundy',\n",
       "       'Red', 'Green', 'others', 'Maroon', 'Navy', 'Gold', 'Yellow',\n",
       "       'Grey', 'Platinum', 'Silver', 'Khaki', 'Mustard', 'Lavender',\n",
       "       'Matte', 'Rose', 'Charcoal', 'Purple', 'Orange', 'Peach',\n",
       "       'Magenta', 'Bronze'], dtype=object)"
      ]
     },
     "execution_count": 22,
     "metadata": {},
     "output_type": "execute_result"
    }
   ],
   "source": [
    "df[\"PrimaryColor\"].unique()"
   ]
  },
  {
   "cell_type": "code",
   "execution_count": 23,
   "id": "578daccd",
   "metadata": {},
   "outputs": [],
   "source": [
    "#Fill the missing value by ‘Others’ in the column containing it\n",
    "df[\"PrimaryColor\"].fillna(\"others\",inplace=True)"
   ]
  },
  {
   "cell_type": "code",
   "execution_count": 24,
   "id": "86395c64",
   "metadata": {},
   "outputs": [
    {
     "data": {
      "text/plain": [
       "ProductID       0\n",
       "ProductName     0\n",
       "ProductBrand    0\n",
       "Gender          0\n",
       "Price (INR)     0\n",
       "NumImages       0\n",
       "ID              0\n",
       "Description     0\n",
       "PrimaryColor    0\n",
       "dtype: int64"
      ]
     },
     "execution_count": 24,
     "metadata": {},
     "output_type": "execute_result"
    }
   ],
   "source": [
    "df.isna().sum()"
   ]
  },
  {
   "cell_type": "code",
   "execution_count": 28,
   "id": "f5e4a012",
   "metadata": {},
   "outputs": [],
   "source": [
    "#Since all the column names are single word so you can convert the ‘Price (INR)’ also to single name ‘Price’."
   ]
  },
  {
   "cell_type": "code",
   "execution_count": 25,
   "id": "11965448",
   "metadata": {},
   "outputs": [],
   "source": [
    "df.rename(columns={\"Price (INR)\":\"Price\"},inplace=True)"
   ]
  },
  {
   "cell_type": "code",
   "execution_count": 26,
   "id": "c7c32ec8",
   "metadata": {},
   "outputs": [
    {
     "data": {
      "text/html": [
       "<div>\n",
       "<style scoped>\n",
       "    .dataframe tbody tr th:only-of-type {\n",
       "        vertical-align: middle;\n",
       "    }\n",
       "\n",
       "    .dataframe tbody tr th {\n",
       "        vertical-align: top;\n",
       "    }\n",
       "\n",
       "    .dataframe thead th {\n",
       "        text-align: right;\n",
       "    }\n",
       "</style>\n",
       "<table border=\"1\" class=\"dataframe\">\n",
       "  <thead>\n",
       "    <tr style=\"text-align: right;\">\n",
       "      <th></th>\n",
       "      <th>ProductID</th>\n",
       "      <th>ProductName</th>\n",
       "      <th>ProductBrand</th>\n",
       "      <th>Gender</th>\n",
       "      <th>Price</th>\n",
       "      <th>NumImages</th>\n",
       "      <th>ID</th>\n",
       "      <th>Description</th>\n",
       "      <th>PrimaryColor</th>\n",
       "    </tr>\n",
       "  </thead>\n",
       "  <tbody>\n",
       "    <tr>\n",
       "      <th>0</th>\n",
       "      <td>10017413</td>\n",
       "      <td>DKNY Unisex Black &amp; Grey Printed Medium Trolle...</td>\n",
       "      <td>DKNY</td>\n",
       "      <td>Unisex</td>\n",
       "      <td>11745</td>\n",
       "      <td>7</td>\n",
       "      <td>10017413</td>\n",
       "      <td>Black and grey printed medium trolley bag, sec...</td>\n",
       "      <td>Black</td>\n",
       "    </tr>\n",
       "    <tr>\n",
       "      <th>1</th>\n",
       "      <td>10016283</td>\n",
       "      <td>EthnoVogue Women Beige &amp; Grey Made to Measure ...</td>\n",
       "      <td>EthnoVogue</td>\n",
       "      <td>Women</td>\n",
       "      <td>5810</td>\n",
       "      <td>7</td>\n",
       "      <td>10016283</td>\n",
       "      <td>Beige &amp; Grey made to measure kurta with churid...</td>\n",
       "      <td>Beige</td>\n",
       "    </tr>\n",
       "    <tr>\n",
       "      <th>2</th>\n",
       "      <td>10009781</td>\n",
       "      <td>SPYKAR Women Pink Alexa Super Skinny Fit High-...</td>\n",
       "      <td>SPYKAR</td>\n",
       "      <td>Women</td>\n",
       "      <td>899</td>\n",
       "      <td>7</td>\n",
       "      <td>10009781</td>\n",
       "      <td>Pink coloured wash 5-pocket high-rise cropped ...</td>\n",
       "      <td>Pink</td>\n",
       "    </tr>\n",
       "    <tr>\n",
       "      <th>3</th>\n",
       "      <td>10015921</td>\n",
       "      <td>Raymond Men Blue Self-Design Single-Breasted B...</td>\n",
       "      <td>Raymond</td>\n",
       "      <td>Men</td>\n",
       "      <td>5599</td>\n",
       "      <td>5</td>\n",
       "      <td>10015921</td>\n",
       "      <td>Blue self-design bandhgala suitBlue self-desig...</td>\n",
       "      <td>Blue</td>\n",
       "    </tr>\n",
       "    <tr>\n",
       "      <th>4</th>\n",
       "      <td>10017833</td>\n",
       "      <td>Parx Men Brown &amp; Off-White Slim Fit Printed Ca...</td>\n",
       "      <td>Parx</td>\n",
       "      <td>Men</td>\n",
       "      <td>759</td>\n",
       "      <td>5</td>\n",
       "      <td>10017833</td>\n",
       "      <td>Brown and off-white printed casual shirt, has ...</td>\n",
       "      <td>White</td>\n",
       "    </tr>\n",
       "  </tbody>\n",
       "</table>\n",
       "</div>"
      ],
      "text/plain": [
       "   ProductID                                        ProductName ProductBrand  \\\n",
       "0   10017413  DKNY Unisex Black & Grey Printed Medium Trolle...         DKNY   \n",
       "1   10016283  EthnoVogue Women Beige & Grey Made to Measure ...   EthnoVogue   \n",
       "2   10009781  SPYKAR Women Pink Alexa Super Skinny Fit High-...       SPYKAR   \n",
       "3   10015921  Raymond Men Blue Self-Design Single-Breasted B...      Raymond   \n",
       "4   10017833  Parx Men Brown & Off-White Slim Fit Printed Ca...         Parx   \n",
       "\n",
       "   Gender  Price  NumImages        ID  \\\n",
       "0  Unisex  11745          7  10017413   \n",
       "1   Women   5810          7  10016283   \n",
       "2   Women    899          7  10009781   \n",
       "3     Men   5599          5  10015921   \n",
       "4     Men    759          5  10017833   \n",
       "\n",
       "                                         Description PrimaryColor  \n",
       "0  Black and grey printed medium trolley bag, sec...        Black  \n",
       "1  Beige & Grey made to measure kurta with churid...        Beige  \n",
       "2  Pink coloured wash 5-pocket high-rise cropped ...         Pink  \n",
       "3  Blue self-design bandhgala suitBlue self-desig...         Blue  \n",
       "4  Brown and off-white printed casual shirt, has ...        White  "
      ]
     },
     "execution_count": 26,
     "metadata": {},
     "output_type": "execute_result"
    }
   ],
   "source": [
    "df.head()"
   ]
  },
  {
   "cell_type": "code",
   "execution_count": 27,
   "id": "f296a643",
   "metadata": {},
   "outputs": [],
   "source": [
    "# Finding Length of each unique ID"
   ]
  },
  {
   "cell_type": "code",
   "execution_count": 32,
   "id": "39a423c9",
   "metadata": {},
   "outputs": [],
   "source": [
    "df[\"ProductIDLength\"] = df[\"ProductID\"].apply(lambda x : len( str(x)  ))"
   ]
  },
  {
   "cell_type": "code",
   "execution_count": 33,
   "id": "67081f15",
   "metadata": {},
   "outputs": [
    {
     "data": {
      "text/plain": [
       "ProductIDLength\n",
       "8    12175\n",
       "7      313\n",
       "6        3\n",
       "Name: count, dtype: int64"
      ]
     },
     "execution_count": 33,
     "metadata": {},
     "output_type": "execute_result"
    }
   ],
   "source": [
    "df[\"ProductIDLength\"].value_counts()"
   ]
  },
  {
   "cell_type": "code",
   "execution_count": 34,
   "id": "706a4659",
   "metadata": {},
   "outputs": [],
   "source": [
    "df.drop(\"ProductIDLength\", axis = 1, inplace = True)"
   ]
  },
  {
   "cell_type": "code",
   "execution_count": 28,
   "id": "f69f5d21",
   "metadata": {},
   "outputs": [
    {
     "data": {
      "text/html": [
       "<div>\n",
       "<style scoped>\n",
       "    .dataframe tbody tr th:only-of-type {\n",
       "        vertical-align: middle;\n",
       "    }\n",
       "\n",
       "    .dataframe tbody tr th {\n",
       "        vertical-align: top;\n",
       "    }\n",
       "\n",
       "    .dataframe thead th {\n",
       "        text-align: right;\n",
       "    }\n",
       "</style>\n",
       "<table border=\"1\" class=\"dataframe\">\n",
       "  <thead>\n",
       "    <tr style=\"text-align: right;\">\n",
       "      <th></th>\n",
       "      <th>ProductID</th>\n",
       "      <th>ProductName</th>\n",
       "      <th>ProductBrand</th>\n",
       "      <th>Gender</th>\n",
       "      <th>Price</th>\n",
       "      <th>NumImages</th>\n",
       "      <th>ID</th>\n",
       "      <th>Description</th>\n",
       "      <th>PrimaryColor</th>\n",
       "    </tr>\n",
       "  </thead>\n",
       "  <tbody>\n",
       "    <tr>\n",
       "      <th>0</th>\n",
       "      <td>10017413</td>\n",
       "      <td>DKNY Unisex Black &amp; Grey Printed Medium Trolle...</td>\n",
       "      <td>DKNY</td>\n",
       "      <td>Unisex</td>\n",
       "      <td>11745</td>\n",
       "      <td>7</td>\n",
       "      <td>10017413</td>\n",
       "      <td>Black and grey printed medium trolley bag, sec...</td>\n",
       "      <td>Black</td>\n",
       "    </tr>\n",
       "    <tr>\n",
       "      <th>1</th>\n",
       "      <td>10016283</td>\n",
       "      <td>EthnoVogue Women Beige &amp; Grey Made to Measure ...</td>\n",
       "      <td>EthnoVogue</td>\n",
       "      <td>Women</td>\n",
       "      <td>5810</td>\n",
       "      <td>7</td>\n",
       "      <td>10016283</td>\n",
       "      <td>Beige &amp; Grey made to measure kurta with churid...</td>\n",
       "      <td>Beige</td>\n",
       "    </tr>\n",
       "    <tr>\n",
       "      <th>2</th>\n",
       "      <td>10009781</td>\n",
       "      <td>SPYKAR Women Pink Alexa Super Skinny Fit High-...</td>\n",
       "      <td>SPYKAR</td>\n",
       "      <td>Women</td>\n",
       "      <td>899</td>\n",
       "      <td>7</td>\n",
       "      <td>10009781</td>\n",
       "      <td>Pink coloured wash 5-pocket high-rise cropped ...</td>\n",
       "      <td>Pink</td>\n",
       "    </tr>\n",
       "    <tr>\n",
       "      <th>3</th>\n",
       "      <td>10015921</td>\n",
       "      <td>Raymond Men Blue Self-Design Single-Breasted B...</td>\n",
       "      <td>Raymond</td>\n",
       "      <td>Men</td>\n",
       "      <td>5599</td>\n",
       "      <td>5</td>\n",
       "      <td>10015921</td>\n",
       "      <td>Blue self-design bandhgala suitBlue self-desig...</td>\n",
       "      <td>Blue</td>\n",
       "    </tr>\n",
       "    <tr>\n",
       "      <th>4</th>\n",
       "      <td>10017833</td>\n",
       "      <td>Parx Men Brown &amp; Off-White Slim Fit Printed Ca...</td>\n",
       "      <td>Parx</td>\n",
       "      <td>Men</td>\n",
       "      <td>759</td>\n",
       "      <td>5</td>\n",
       "      <td>10017833</td>\n",
       "      <td>Brown and off-white printed casual shirt, has ...</td>\n",
       "      <td>White</td>\n",
       "    </tr>\n",
       "  </tbody>\n",
       "</table>\n",
       "</div>"
      ],
      "text/plain": [
       "   ProductID                                        ProductName ProductBrand  \\\n",
       "0   10017413  DKNY Unisex Black & Grey Printed Medium Trolle...         DKNY   \n",
       "1   10016283  EthnoVogue Women Beige & Grey Made to Measure ...   EthnoVogue   \n",
       "2   10009781  SPYKAR Women Pink Alexa Super Skinny Fit High-...       SPYKAR   \n",
       "3   10015921  Raymond Men Blue Self-Design Single-Breasted B...      Raymond   \n",
       "4   10017833  Parx Men Brown & Off-White Slim Fit Printed Ca...         Parx   \n",
       "\n",
       "   Gender  Price  NumImages        ID  \\\n",
       "0  Unisex  11745          7  10017413   \n",
       "1   Women   5810          7  10016283   \n",
       "2   Women    899          7  10009781   \n",
       "3     Men   5599          5  10015921   \n",
       "4     Men    759          5  10017833   \n",
       "\n",
       "                                         Description PrimaryColor  \n",
       "0  Black and grey printed medium trolley bag, sec...        Black  \n",
       "1  Beige & Grey made to measure kurta with churid...        Beige  \n",
       "2  Pink coloured wash 5-pocket high-rise cropped ...         Pink  \n",
       "3  Blue self-design bandhgala suitBlue self-desig...         Blue  \n",
       "4  Brown and off-white printed casual shirt, has ...        White  "
      ]
     },
     "execution_count": 28,
     "metadata": {},
     "output_type": "execute_result"
    }
   ],
   "source": [
    "df.head()"
   ]
  },
  {
   "cell_type": "markdown",
   "id": "2a90bae5",
   "metadata": {},
   "source": [
    "## Scenario3\n",
    "So far we have learnt the basics of the dataset and cleaned it as required. Over here you are going to perform deep analysis of the dataset with the help of data manipulation tricks as well as visualize the results.\n",
    "This is the most time consuming tasks and make sure you do perform proper analysis method. While answering the question against all the tasks, it will be great if you can create charts to support it also.\n",
    "Expected shape of the dataset: 12491 rows and 8 columns\n",
    "\n",
    "### Task1\n",
    "\n",
    "1. Univariate analysis of each variable\n",
    "2. Bivariate Analysis of categorical vs numerical variables (Take target variable as fixed variable here)"
   ]
  },
  {
   "cell_type": "code",
   "execution_count": 36,
   "id": "0433b568",
   "metadata": {},
   "outputs": [],
   "source": [
    "#Checking the top color which is popular"
   ]
  },
  {
   "cell_type": "code",
   "execution_count": 37,
   "id": "3e67f400",
   "metadata": {
    "scrolled": true
   },
   "outputs": [
    {
     "data": {
      "text/plain": [
       "count     12491\n",
       "unique       28\n",
       "top        Blue\n",
       "freq       3443\n",
       "Name: PrimaryColor, dtype: object"
      ]
     },
     "execution_count": 37,
     "metadata": {},
     "output_type": "execute_result"
    }
   ],
   "source": [
    "df[\"PrimaryColor\"].describe()"
   ]
  },
  {
   "cell_type": "code",
   "execution_count": 38,
   "id": "2ea7961f",
   "metadata": {},
   "outputs": [],
   "source": [
    "#Univariate analysis of each variable"
   ]
  },
  {
   "cell_type": "code",
   "execution_count": 39,
   "id": "359c1f89",
   "metadata": {
    "scrolled": true
   },
   "outputs": [
    {
     "data": {
      "text/plain": [
       "count    12491.000000\n",
       "mean      1452.660956\n",
       "std       2118.503976\n",
       "min         90.000000\n",
       "25%        649.000000\n",
       "50%        920.000000\n",
       "75%       1499.000000\n",
       "max      63090.000000\n",
       "Name: Price, dtype: float64"
      ]
     },
     "execution_count": 39,
     "metadata": {},
     "output_type": "execute_result"
    }
   ],
   "source": [
    "df[\"Price\"].describe()"
   ]
  },
  {
   "cell_type": "code",
   "execution_count": 40,
   "id": "0292edcb",
   "metadata": {},
   "outputs": [
    {
     "data": {
      "image/png": "[encoded data removed]",
      "text/plain": [
       "<Figure size 640x480 with 1 Axes>"
      ]
     },
     "metadata": {},
     "output_type": "display_data"
    }
   ],
   "source": [
    "sns.histplot(data=df,x=\"Price\",bins=20)\n",
    "plt.xlabel(\"Price\")\n",
    "plt.ylabel(\"Frequency\")\n",
    "plt.show()"
   ]
  },
  {
   "cell_type": "code",
   "execution_count": null,
   "id": "c7bed7ff",
   "metadata": {},
   "outputs": [],
   "source": [
    "#Analyzed that max price is less than or equal to 5000"
   ]
  },
  {
   "cell_type": "code",
   "execution_count": 29,
   "id": "62c797ed",
   "metadata": {},
   "outputs": [],
   "source": [
    "newdf =df[df[\"Price\"] < 5000]"
   ]
  },
  {
   "cell_type": "code",
   "execution_count": 30,
   "id": "b7e3540d",
   "metadata": {},
   "outputs": [
    {
     "data": {
      "text/plain": [
       "count    12099.000000\n",
       "mean      1189.891727\n",
       "std        849.915440\n",
       "min         90.000000\n",
       "25%        639.000000\n",
       "50%        899.000000\n",
       "75%       1399.000000\n",
       "max       4999.000000\n",
       "Name: Price, dtype: float64"
      ]
     },
     "execution_count": 30,
     "metadata": {},
     "output_type": "execute_result"
    }
   ],
   "source": [
    "newdf[\"Price\"].describe()"
   ]
  },
  {
   "cell_type": "code",
   "execution_count": 31,
   "id": "3b3acd32",
   "metadata": {},
   "outputs": [
    {
     "data": {
      "image/png": "[encoded data removed]",
      "text/plain": [
       "<Figure size 640x480 with 1 Axes>"
      ]
     },
     "metadata": {},
     "output_type": "display_data"
    }
   ],
   "source": [
    "sns.histplot(data=newdf,x=\"Price\",bins=20)\n",
    "plt.xlabel(\"Price\")\n",
    "plt.ylabel(\"Frequency\")\n",
    "plt.show()"
   ]
  },
  {
   "cell_type": "code",
   "execution_count": 32,
   "id": "d8404eb9",
   "metadata": {},
   "outputs": [],
   "source": [
    "#Saving the dataset"
   ]
  },
  {
   "cell_type": "code",
   "execution_count": 33,
   "id": "cb33af20",
   "metadata": {},
   "outputs": [],
   "source": [
    "df.to_csv(\"combined_dataset.csv\",index=False)"
   ]
  },
  {
   "cell_type": "code",
   "execution_count": null,
   "id": "f2ce4746",
   "metadata": {},
   "outputs": [],
   "source": [
    "#Analyzing total records based on Gender group "
   ]
  },
  {
   "cell_type": "code",
   "execution_count": 34,
   "id": "26a3307c",
   "metadata": {},
   "outputs": [],
   "source": [
    "gender_group= df.groupby(\"Gender\").aggregate(TotalRecords=(\"Gender\",np.size))"
   ]
  },
  {
   "cell_type": "code",
   "execution_count": 35,
   "id": "b70ca2c1",
   "metadata": {},
   "outputs": [
    {
     "data": {
      "text/html": [
       "<div>\n",
       "<style scoped>\n",
       "    .dataframe tbody tr th:only-of-type {\n",
       "        vertical-align: middle;\n",
       "    }\n",
       "\n",
       "    .dataframe tbody tr th {\n",
       "        vertical-align: top;\n",
       "    }\n",
       "\n",
       "    .dataframe thead th {\n",
       "        text-align: right;\n",
       "    }\n",
       "</style>\n",
       "<table border=\"1\" class=\"dataframe\">\n",
       "  <thead>\n",
       "    <tr style=\"text-align: right;\">\n",
       "      <th></th>\n",
       "      <th>TotalRecords</th>\n",
       "    </tr>\n",
       "    <tr>\n",
       "      <th>Gender</th>\n",
       "      <th></th>\n",
       "    </tr>\n",
       "  </thead>\n",
       "  <tbody>\n",
       "    <tr>\n",
       "      <th>Boys</th>\n",
       "      <td>1100</td>\n",
       "    </tr>\n",
       "    <tr>\n",
       "      <th>Girls</th>\n",
       "      <td>440</td>\n",
       "    </tr>\n",
       "    <tr>\n",
       "      <th>Men</th>\n",
       "      <td>4591</td>\n",
       "    </tr>\n",
       "    <tr>\n",
       "      <th>Unisex</th>\n",
       "      <td>1188</td>\n",
       "    </tr>\n",
       "    <tr>\n",
       "      <th>Unisex Kids</th>\n",
       "      <td>46</td>\n",
       "    </tr>\n",
       "    <tr>\n",
       "      <th>Women</th>\n",
       "      <td>5126</td>\n",
       "    </tr>\n",
       "  </tbody>\n",
       "</table>\n",
       "</div>"
      ],
      "text/plain": [
       "             TotalRecords\n",
       "Gender                   \n",
       "Boys                 1100\n",
       "Girls                 440\n",
       "Men                  4591\n",
       "Unisex               1188\n",
       "Unisex Kids            46\n",
       "Women                5126"
      ]
     },
     "execution_count": 35,
     "metadata": {},
     "output_type": "execute_result"
    }
   ],
   "source": [
    "gender_group"
   ]
  },
  {
   "cell_type": "code",
   "execution_count": 36,
   "id": "e8ae422a",
   "metadata": {
    "scrolled": false
   },
   "outputs": [
    {
     "data": {
      "text/plain": [
       "<Axes: xlabel='Gender', ylabel='TotalRecords'>"
      ]
     },
     "execution_count": 36,
     "metadata": {},
     "output_type": "execute_result"
    },
    {
     "data": {
      "image/png": "[encoded data removed]",
      "text/plain": [
       "<Figure size 640x480 with 1 Axes>"
      ]
     },
     "metadata": {},
     "output_type": "display_data"
    }
   ],
   "source": [
    "sns.barplot(data=gender_group,x=gender_group.index,y=gender_group[\"TotalRecords\"])"
   ]
  },
  {
   "cell_type": "code",
   "execution_count": null,
   "id": "236f4990",
   "metadata": {},
   "outputs": [],
   "source": [
    "#Analyzing the Image column"
   ]
  },
  {
   "cell_type": "code",
   "execution_count": 37,
   "id": "a7fef635",
   "metadata": {},
   "outputs": [],
   "source": [
    "Images_number_group=df.groupby(\"NumImages\").aggregate(total_records=(\"NumImages\",np.size))"
   ]
  },
  {
   "cell_type": "code",
   "execution_count": 38,
   "id": "d55da55f",
   "metadata": {},
   "outputs": [
    {
     "data": {
      "text/html": [
       "<div>\n",
       "<style scoped>\n",
       "    .dataframe tbody tr th:only-of-type {\n",
       "        vertical-align: middle;\n",
       "    }\n",
       "\n",
       "    .dataframe tbody tr th {\n",
       "        vertical-align: top;\n",
       "    }\n",
       "\n",
       "    .dataframe thead th {\n",
       "        text-align: right;\n",
       "    }\n",
       "</style>\n",
       "<table border=\"1\" class=\"dataframe\">\n",
       "  <thead>\n",
       "    <tr style=\"text-align: right;\">\n",
       "      <th></th>\n",
       "      <th>total_records</th>\n",
       "    </tr>\n",
       "    <tr>\n",
       "      <th>NumImages</th>\n",
       "      <th></th>\n",
       "    </tr>\n",
       "  </thead>\n",
       "  <tbody>\n",
       "    <tr>\n",
       "      <th>1</th>\n",
       "      <td>13</td>\n",
       "    </tr>\n",
       "    <tr>\n",
       "      <th>2</th>\n",
       "      <td>174</td>\n",
       "    </tr>\n",
       "    <tr>\n",
       "      <th>3</th>\n",
       "      <td>1211</td>\n",
       "    </tr>\n",
       "    <tr>\n",
       "      <th>4</th>\n",
       "      <td>1693</td>\n",
       "    </tr>\n",
       "    <tr>\n",
       "      <th>5</th>\n",
       "      <td>7134</td>\n",
       "    </tr>\n",
       "    <tr>\n",
       "      <th>6</th>\n",
       "      <td>1080</td>\n",
       "    </tr>\n",
       "    <tr>\n",
       "      <th>7</th>\n",
       "      <td>1057</td>\n",
       "    </tr>\n",
       "    <tr>\n",
       "      <th>8</th>\n",
       "      <td>102</td>\n",
       "    </tr>\n",
       "    <tr>\n",
       "      <th>9</th>\n",
       "      <td>24</td>\n",
       "    </tr>\n",
       "    <tr>\n",
       "      <th>10</th>\n",
       "      <td>3</td>\n",
       "    </tr>\n",
       "  </tbody>\n",
       "</table>\n",
       "</div>"
      ],
      "text/plain": [
       "           total_records\n",
       "NumImages               \n",
       "1                     13\n",
       "2                    174\n",
       "3                   1211\n",
       "4                   1693\n",
       "5                   7134\n",
       "6                   1080\n",
       "7                   1057\n",
       "8                    102\n",
       "9                     24\n",
       "10                     3"
      ]
     },
     "execution_count": 38,
     "metadata": {},
     "output_type": "execute_result"
    }
   ],
   "source": [
    "Images_number_group"
   ]
  },
  {
   "cell_type": "code",
   "execution_count": 50,
   "id": "44fb8349",
   "metadata": {},
   "outputs": [],
   "source": [
    "#Bivariate Analysis of categorical vs numerical variables (Take target variable as fixed variable here)"
   ]
  },
  {
   "cell_type": "code",
   "execution_count": 41,
   "id": "4a5b8408",
   "metadata": {},
   "outputs": [],
   "source": [
    "#Average price of colors"
   ]
  },
  {
   "cell_type": "code",
   "execution_count": 42,
   "id": "a9c822fc",
   "metadata": {},
   "outputs": [],
   "source": [
    "avg_prices_by_color = df.groupby('PrimaryColor')['Price'].mean()"
   ]
  },
  {
   "cell_type": "code",
   "execution_count": 44,
   "id": "af87afa9",
   "metadata": {},
   "outputs": [
    {
     "data": {
      "text/plain": [
       "PrimaryColor\n",
       "Beige       1402.004237\n",
       "Black       1951.487805\n",
       "Blue        1350.478652\n",
       "Bronze       588.000000\n",
       "Brown       1540.021142\n",
       "Burgundy    1389.531250\n",
       "Charcoal    1306.500000\n",
       "Gold        1829.025424\n",
       "Green       1217.830396\n",
       "Grey        1525.320175\n",
       "Khaki       1325.803571\n",
       "Lavender    1118.894737\n",
       "Magenta      813.307692\n",
       "Maroon      1362.828877\n",
       "Matte       1438.823529\n",
       "Mustard     1129.933333\n",
       "Navy        1304.388889\n",
       "Orange      1039.984615\n",
       "Peach        534.500000\n",
       "Pink        1193.961637\n",
       "Platinum    2183.333333\n",
       "Purple      2246.923077\n",
       "Red         1273.090732\n",
       "Rose        2802.875000\n",
       "Silver      2857.126126\n",
       "White       1562.528409\n",
       "Yellow      1085.721675\n",
       "others      1345.615213\n",
       "Name: Price, dtype: float64"
      ]
     },
     "execution_count": 44,
     "metadata": {},
     "output_type": "execute_result"
    }
   ],
   "source": [
    "avg_prices_by_color"
   ]
  },
  {
   "cell_type": "code",
   "execution_count": 45,
   "id": "be28eddc",
   "metadata": {},
   "outputs": [],
   "source": [
    "#Colors less than price 1500"
   ]
  },
  {
   "cell_type": "code",
   "execution_count": 46,
   "id": "80118b2c",
   "metadata": {},
   "outputs": [],
   "source": [
    "colors_less_than_1500 = avg_prices_by_color[avg_prices_by_color < 1500]"
   ]
  },
  {
   "cell_type": "code",
   "execution_count": 47,
   "id": "e5266b35",
   "metadata": {
    "scrolled": true
   },
   "outputs": [
    {
     "data": {
      "text/plain": [
       "PrimaryColor\n",
       "Beige       1402.004237\n",
       "Blue        1350.478652\n",
       "Bronze       588.000000\n",
       "Burgundy    1389.531250\n",
       "Charcoal    1306.500000\n",
       "Green       1217.830396\n",
       "Khaki       1325.803571\n",
       "Lavender    1118.894737\n",
       "Magenta      813.307692\n",
       "Maroon      1362.828877\n",
       "Matte       1438.823529\n",
       "Mustard     1129.933333\n",
       "Navy        1304.388889\n",
       "Orange      1039.984615\n",
       "Peach        534.500000\n",
       "Pink        1193.961637\n",
       "Red         1273.090732\n",
       "Yellow      1085.721675\n",
       "others      1345.615213\n",
       "Name: Price, dtype: float64"
      ]
     },
     "execution_count": 47,
     "metadata": {},
     "output_type": "execute_result"
    }
   ],
   "source": [
    "colors_less_than_1500"
   ]
  },
  {
   "cell_type": "code",
   "execution_count": 58,
   "id": "6b7ff489",
   "metadata": {},
   "outputs": [],
   "source": [
    "#Average Prices of product Brand"
   ]
  },
  {
   "cell_type": "code",
   "execution_count": 50,
   "id": "d0c892d8",
   "metadata": {},
   "outputs": [],
   "source": [
    "average_prices_of_brand=df.groupby(\"ProductBrand\")[\"Price\"].mean()"
   ]
  },
  {
   "cell_type": "code",
   "execution_count": 51,
   "id": "0ace24d3",
   "metadata": {
    "scrolled": true
   },
   "outputs": [
    {
     "data": {
      "text/plain": [
       "ProductBrand\n",
       "109F          1299.000000\n",
       "20Dresses     1153.000000\n",
       "612 league     713.312500\n",
       "7Rainbow       598.000000\n",
       "AASK          1499.000000\n",
       "                 ...     \n",
       "shaze         2812.857143\n",
       "shiloh         439.000000\n",
       "t-base        1134.714286\n",
       "trueBrowns    1724.000000\n",
       "yelloe         774.000000\n",
       "Name: Price, Length: 677, dtype: float64"
      ]
     },
     "execution_count": 51,
     "metadata": {},
     "output_type": "execute_result"
    }
   ],
   "source": [
    "average_prices_of_brand"
   ]
  },
  {
   "cell_type": "code",
   "execution_count": null,
   "id": "383c3f17",
   "metadata": {},
   "outputs": [],
   "source": [
    "#Brands above price 10000"
   ]
  },
  {
   "cell_type": "code",
   "execution_count": 54,
   "id": "e6372269",
   "metadata": {},
   "outputs": [],
   "source": [
    "brands_above_10000 = average_prices_of_brand[average_prices_of_brand > 10000]"
   ]
  },
  {
   "cell_type": "code",
   "execution_count": 55,
   "id": "a3ac4b29",
   "metadata": {
    "scrolled": false
   },
   "outputs": [
    {
     "data": {
      "text/plain": [
       "ProductBrand\n",
       "BERING            16941.800000\n",
       "DKNY              14814.482759\n",
       "Garmin            63090.000000\n",
       "Jacques Lemans    11100.000000\n",
       "MOVADO            49192.666667\n",
       "Maserati          23200.000000\n",
       "PRESTO            10981.076923\n",
       "SEIKO             18438.888889\n",
       "Name: Price, dtype: float64"
      ]
     },
     "execution_count": 55,
     "metadata": {},
     "output_type": "execute_result"
    }
   ],
   "source": [
    "brands_above_10000"
   ]
  },
  {
   "cell_type": "code",
   "execution_count": null,
   "id": "bcbc9bcf",
   "metadata": {},
   "outputs": [],
   "source": [
    "# audience that buys most of the products having price more than 10000"
   ]
  },
  {
   "cell_type": "code",
   "execution_count": 56,
   "id": "c7d9d41e",
   "metadata": {},
   "outputs": [],
   "source": [
    "aud_above_10k=df[df[\"Price\"]>10000]"
   ]
  },
  {
   "cell_type": "code",
   "execution_count": 57,
   "id": "a1df06f6",
   "metadata": {},
   "outputs": [],
   "source": [
    "aud_buying_products=aud_above_10k[\"Gender\"].value_counts()"
   ]
  },
  {
   "cell_type": "code",
   "execution_count": 58,
   "id": "9fdfaebc",
   "metadata": {},
   "outputs": [
    {
     "data": {
      "text/plain": [
       "Gender\n",
       "Unisex    53\n",
       "Men       23\n",
       "Women     18\n",
       "Name: count, dtype: int64"
      ]
     },
     "execution_count": 58,
     "metadata": {},
     "output_type": "execute_result"
    }
   ],
   "source": [
    "aud_buying_products"
   ]
  },
  {
   "cell_type": "code",
   "execution_count": null,
   "id": "4de9890a",
   "metadata": {},
   "outputs": [],
   "source": [
    "#max_audience_buying_products above 10000"
   ]
  },
  {
   "cell_type": "code",
   "execution_count": 66,
   "id": "8851b426",
   "metadata": {},
   "outputs": [],
   "source": [
    "max_aud_buying_products=aud_buying_products.idxmax()"
   ]
  },
  {
   "cell_type": "code",
   "execution_count": 67,
   "id": "36200caf",
   "metadata": {},
   "outputs": [
    {
     "data": {
      "text/plain": [
       "'Unisex'"
      ]
     },
     "execution_count": 67,
     "metadata": {},
     "output_type": "execute_result"
    }
   ],
   "source": [
    "max_aud_buying_products"
   ]
  },
  {
   "cell_type": "code",
   "execution_count": 68,
   "id": "1efae2a9",
   "metadata": {},
   "outputs": [],
   "source": [
    "#Brands below price 10000"
   ]
  },
  {
   "cell_type": "code",
   "execution_count": 71,
   "id": "4683051c",
   "metadata": {},
   "outputs": [],
   "source": [
    "brands_below_10000 = average_prices_of_brand[average_prices_of_brand < 10000]"
   ]
  },
  {
   "cell_type": "code",
   "execution_count": 72,
   "id": "09e00b3b",
   "metadata": {
    "scrolled": false
   },
   "outputs": [
    {
     "data": {
      "text/plain": [
       "ProductBrand\n",
       "109F          1299.000000\n",
       "20Dresses     1153.000000\n",
       "612 league     713.312500\n",
       "7Rainbow       598.000000\n",
       "AASK          1499.000000\n",
       "                 ...     \n",
       "shaze         2812.857143\n",
       "shiloh         439.000000\n",
       "t-base        1134.714286\n",
       "trueBrowns    1724.000000\n",
       "yelloe         774.000000\n",
       "Name: Price, Length: 669, dtype: float64"
      ]
     },
     "execution_count": 72,
     "metadata": {},
     "output_type": "execute_result"
    }
   ],
   "source": [
    "brands_below_10000"
   ]
  },
  {
   "cell_type": "code",
   "execution_count": null,
   "id": "4af63510",
   "metadata": {},
   "outputs": [],
   "source": [
    "#Average price of brands below 10000"
   ]
  },
  {
   "cell_type": "code",
   "execution_count": 73,
   "id": "90e49dc9",
   "metadata": {},
   "outputs": [],
   "source": [
    "avg_price_of_brand_below_10000=brands_below_10000.mean()"
   ]
  },
  {
   "cell_type": "code",
   "execution_count": 74,
   "id": "e209cbf8",
   "metadata": {},
   "outputs": [
    {
     "data": {
      "text/plain": [
       "1328.6953059946647"
      ]
     },
     "execution_count": 74,
     "metadata": {},
     "output_type": "execute_result"
    }
   ],
   "source": [
    "avg_price_of_brand_below_10000"
   ]
  },
  {
   "cell_type": "code",
   "execution_count": 75,
   "id": "4b77bdae",
   "metadata": {},
   "outputs": [],
   "source": [
    "# audience that buys most of the products having price less than 10000"
   ]
  },
  {
   "cell_type": "code",
   "execution_count": 76,
   "id": "fc62a32b",
   "metadata": {},
   "outputs": [],
   "source": [
    "audience_under10k_df = df[df['Price'] < 10000]"
   ]
  },
  {
   "cell_type": "code",
   "execution_count": 77,
   "id": "f07d881d",
   "metadata": {},
   "outputs": [],
   "source": [
    "audience_buying_products = audience_under10k_df['Gender'].value_counts()"
   ]
  },
  {
   "cell_type": "code",
   "execution_count": 78,
   "id": "59a5c49f",
   "metadata": {
    "scrolled": true
   },
   "outputs": [
    {
     "data": {
      "text/plain": [
       "Gender\n",
       "Women          5108\n",
       "Men            4568\n",
       "Unisex         1135\n",
       "Boys           1100\n",
       "Girls           440\n",
       "Unisex Kids      46\n",
       "Name: count, dtype: int64"
      ]
     },
     "execution_count": 78,
     "metadata": {},
     "output_type": "execute_result"
    }
   ],
   "source": [
    "audience_buying_products"
   ]
  },
  {
   "cell_type": "code",
   "execution_count": null,
   "id": "5c1d6645",
   "metadata": {},
   "outputs": [],
   "source": [
    "#Most audience audience that buys most of the products having price less than 10000"
   ]
  },
  {
   "cell_type": "code",
   "execution_count": 81,
   "id": "d0884617",
   "metadata": {},
   "outputs": [],
   "source": [
    "most_bought_audience = audience_buying_products.idxmax()"
   ]
  },
  {
   "cell_type": "code",
   "execution_count": 82,
   "id": "07bd9e7d",
   "metadata": {},
   "outputs": [
    {
     "data": {
      "text/plain": [
       "'Women'"
      ]
     },
     "execution_count": 82,
     "metadata": {},
     "output_type": "execute_result"
    }
   ],
   "source": [
    "most_bought_audience"
   ]
  },
  {
   "cell_type": "code",
   "execution_count": 83,
   "id": "e564d571",
   "metadata": {},
   "outputs": [],
   "source": [
    "#Most preferred brand from top"
   ]
  },
  {
   "cell_type": "code",
   "execution_count": 297,
   "id": "89d7fb01",
   "metadata": {},
   "outputs": [
    {
     "data": {
      "text/plain": [
       "ProductBrand\n",
       "Indian Terrain    971\n",
       "Puma              345\n",
       "Pepe Jeans        340\n",
       "AURELIA           307\n",
       "Flying Machine    301\n",
       "Name: count, dtype: int64"
      ]
     },
     "execution_count": 297,
     "metadata": {},
     "output_type": "execute_result"
    }
   ],
   "source": [
    "df[\"ProductBrand\"].value_counts()[0:5]"
   ]
  },
  {
   "cell_type": "code",
   "execution_count": 262,
   "id": "cfcf1cf9",
   "metadata": {},
   "outputs": [],
   "source": [
    "#Bivariate Analysis of Gender and Price."
   ]
  },
  {
   "cell_type": "code",
   "execution_count": 84,
   "id": "e186a5e5",
   "metadata": {},
   "outputs": [
    {
     "data": {
      "image/png": "[encoded data removed]",
      "text/plain": [
       "<Figure size 640x480 with 1 Axes>"
      ]
     },
     "metadata": {},
     "output_type": "display_data"
    }
   ],
   "source": [
    "sns.barplot(data=df,x=\"Gender\",y=\"Price\")\n",
    "plt.show()"
   ]
  },
  {
   "cell_type": "code",
   "execution_count": null,
   "id": "0f62099a",
   "metadata": {},
   "outputs": [],
   "source": []
  },
  {
   "cell_type": "code",
   "execution_count": null,
   "id": "969f0e30",
   "metadata": {},
   "outputs": [],
   "source": []
  },
  {
   "cell_type": "code",
   "execution_count": null,
   "id": "de964465",
   "metadata": {},
   "outputs": [],
   "source": []
  },
  {
   "cell_type": "code",
   "execution_count": null,
   "id": "2a4e8261",
   "metadata": {},
   "outputs": [],
   "source": []
  }
 ],
 "metadata": {
  "kernelspec": {
   "display_name": "Python 3 (ipykernel)",
   "language": "python",
   "name": "python3"
  },
  "language_info": {
   "codemirror_mode": {
    "name": "ipython",
    "version": 3
   },
   "file_extension": ".py",
   "mimetype": "text/x-python",
   "name": "python",
   "nbconvert_exporter": "python",
   "pygments_lexer": "ipython3",
   "version": "3.11.5"
  }
 },
 "nbformat": 4,
 "nbformat_minor": 5
}
